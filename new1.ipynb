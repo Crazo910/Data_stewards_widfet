{
 "cells": [
  {
   "cell_type": "code",
   "execution_count": 1,
   "id": "e69f312d-0a4b-4630-a289-d4080dbf9f28",
   "metadata": {},
   "outputs": [
    {
     "data": {
      "application/vnd.jupyter.widget-view+json": {
       "model_id": "d8fe3bf07d5948eb87fe7477e31368d5",
       "version_major": 2,
       "version_minor": 0
      },
      "text/plain": [
       "AppLayout(children=(HTML(value='<h2>Enter metadata:</h2>', layout=Layout(grid_area='header')), Button(button_s…"
      ]
     },
     "metadata": {},
     "output_type": "display_data"
    },
    {
     "data": {
      "application/vnd.jupyter.widget-view+json": {
       "model_id": "97fa550d0f5444599e2318d4dc63fc3c",
       "version_major": 2,
       "version_minor": 0
      },
      "text/plain": [
       "Output()"
      ]
     },
     "metadata": {},
     "output_type": "display_data"
    }
   ],
   "source": [
    "import ipywidgets as widgets\n",
    "from ipywidgets import Output, Button, Box, VBox, HBox, HTML, IntRangeSlider, Dropdown, RadioButtons, AppLayout, Layout , Text\n",
    "from IPython.display import display\n",
    "\n",
    "title = HTML('<h2>Enter metadata:</h2>')\n",
    "\n",
    "output=Output()\n",
    "\n",
    "def end_message(b):\n",
    "    output.clear_output()\n",
    "    with output:\n",
    "        print(f\"Preview of submitted form \\n Data ID: {textbox.value}\\n Title: {textbox2.value}\\n Description: {textbox3.value}\\n Publisher {textbox4.value}\")\n",
    "\n",
    "textbox=Text(\n",
    "    placeholder='Enter Data ID',\n",
    "    description='Data ID:',\n",
    "    disabled=False   \n",
    ")\n",
    "\n",
    "textbox2=Text(\n",
    "    placeholder='Enter Title',\n",
    "    description='Title:',\n",
    "    disabled=False   \n",
    ")\n",
    "\n",
    "textbox3=Text(\n",
    "    placeholder='Enter Description',\n",
    "    description='Description:',\n",
    "    disabled=False   \n",
    ")\n",
    "\n",
    "textbox4=Text(\n",
    "    placeholder='Enter Publisher',\n",
    "    description='Publisher:',\n",
    "    disabled=False   \n",
    ")\n",
    "\n",
    "\n",
    "submit_button=Button(\n",
    "    description = \"Submit\",\n",
    "    button_style = 'info',\n",
    "    layout = Layout(margin = 'auto 20px')\n",
    ")\n",
    "\n",
    "submit_button.on_click(end_message)\n",
    "\n",
    "left_col = VBox(children = [textbox,textbox2,textbox3,textbox4], layout = Layout(height = 'fit-content'))\n",
    "\n",
    "app = AppLayout(\n",
    "    header = title,\n",
    "    left_sidebar = left_col,\n",
    "    center = None,\n",
    "    footer = submit_button,\n",
    "    width = '750px',\n",
    "    pane_heights = ['60px', '1fr', '60px'],\n",
    "    layout = Layout(border = '5px solid #ddd', padding = '10px'),\n",
    "    style = ''\n",
    ")\n",
    "\n",
    "display(app,output)"
   ]
  },
  {
   "cell_type": "code",
   "execution_count": null,
   "id": "2a21deaa-e594-4e15-9a52-6c566af6a738",
   "metadata": {},
   "outputs": [],
   "source": []
  }
 ],
 "metadata": {
  "kernelspec": {
   "display_name": "Python 3 (ipykernel)",
   "language": "python",
   "name": "python3"
  },
  "language_info": {
   "codemirror_mode": {
    "name": "ipython",
    "version": 3
   },
   "file_extension": ".py",
   "mimetype": "text/x-python",
   "name": "python",
   "nbconvert_exporter": "python",
   "pygments_lexer": "ipython3",
   "version": "3.10.13"
  }
 },
 "nbformat": 4,
 "nbformat_minor": 5
}
